{
 "cells": [
  {
   "cell_type": "markdown",
   "id": "1b600d2b",
   "metadata": {},
   "source": [
    "## Hashear pass"
   ]
  },
  {
   "cell_type": "code",
   "execution_count": 2,
   "id": "e86139a1",
   "metadata": {},
   "outputs": [
    {
     "name": "stdout",
     "output_type": "stream",
     "text": [
      "Collecting bcrypt\n",
      "  Using cached bcrypt-4.3.0-cp39-abi3-win_amd64.whl.metadata (10 kB)\n",
      "Using cached bcrypt-4.3.0-cp39-abi3-win_amd64.whl (152 kB)\n",
      "Installing collected packages: bcrypt\n",
      "Successfully installed bcrypt-4.3.0\n"
     ]
    }
   ],
   "source": [
    "! pip install bcrypt"
   ]
  },
  {
   "cell_type": "code",
   "execution_count": null,
   "id": "3a0ba9b5",
   "metadata": {},
   "outputs": [
    {
     "name": "stdout",
     "output_type": "stream",
     "text": [
      "🔒 Generador de Hash para Contraseñas 🔒\n",
      "----------------------------------------\n",
      "\n",
      "✅ Hash generado con éxito:\n",
      "----------------------------------------\n",
      "Contraseña ingresada: ********\n",
      "Hash generado (bcrypt): $2b$12$0RkfuFZUM5IVA5IpFUyY1eSrA2TDqY6bsBc9nWqkbodUDqmmPcD92\n",
      "----------------------------------------\n",
      "\n",
      "💡 Copia este hash para almacenarlo en tu base de datos:\n",
      "$2b$12$0RkfuFZUM5IVA5IpFUyY1eSrA2TDqY6bsBc9nWqkbodUDqmmPcD92\n"
     ]
    }
   ],
   "source": [
    "# Script para generar hash de contraseñas\n",
    "import getpass  # Para entrada segura de contraseñas\n",
    "import bcrypt   # Para hashing seguro\n",
    "\n",
    "def generar_hash_contraseña():\n",
    "    \"\"\"\n",
    "    Solicita una contraseña al usuario y devuelve su hash bcrypt\n",
    "    \"\"\"\n",
    "    print(\"🔒 Generador de Hash para Contraseñas 🔒\")\n",
    "    print(\"----------------------------------------\")\n",
    "    \n",
    "    # Solicitar contraseña de forma segura\n",
    "    contraseña = getpass.getpass(\"Ingrese la contraseña a hashear: \")\n",
    "    \n",
    "    if not contraseña:\n",
    "        print(\"Error: No se ingresó ninguna contraseña\")\n",
    "        return None\n",
    "    \n",
    "    # Verificar fortaleza básica de la contraseña (opcional)\n",
    "    if len(contraseña) < 8:\n",
    "        print(\"⚠ Advertencia: La contraseña es muy corta (mínimo 8 caracteres recomendado)\")\n",
    "    \n",
    "    # Generar salt y hash\n",
    "    salt = bcrypt.gensalt()\n",
    "    hashed = bcrypt.hashpw(contraseña.encode('utf-8'), salt)\n",
    "    \n",
    "    # Mostrar resultados\n",
    "    print(\"\\n✅ Hash generado con éxito:\")\n",
    "    print(\"----------------------------------------\")\n",
    "    print(f\"Contraseña ingresada: {contraseña}\")\n",
    "    print(f\"Hash generado (bcrypt): {hashed.decode('utf-8')}\")\n",
    "    print(\"----------------------------------------\")\n",
    "    \n",
    "    return hashed\n",
    "\n",
    "# Ejecutar la función\n",
    "hash_resultado = generar_hash_contraseña()\n",
    "\n",
    "# Si quieres usar el hash posteriormente en tu aplicación:\n",
    "if hash_resultado:\n",
    "    print(\"\\n💡 Copia este hash para almacenarlo en tu base de datos:\")\n",
    "    print(hash_resultado.decode('utf-8'))"
   ]
  }
 ],
 "metadata": {
  "kernelspec": {
   "display_name": "Python 3",
   "language": "python",
   "name": "python3"
  },
  "language_info": {
   "codemirror_mode": {
    "name": "ipython",
    "version": 3
   },
   "file_extension": ".py",
   "mimetype": "text/x-python",
   "name": "python",
   "nbconvert_exporter": "python",
   "pygments_lexer": "ipython3",
   "version": "3.12.10"
  }
 },
 "nbformat": 4,
 "nbformat_minor": 5
}
