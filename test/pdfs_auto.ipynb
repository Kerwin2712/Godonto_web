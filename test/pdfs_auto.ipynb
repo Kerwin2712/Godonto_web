{
 "cells": [
  {
   "cell_type": "markdown",
   "id": "9de1b917",
   "metadata": {},
   "source": [
    "## Variables para los campos"
   ]
  },
  {
   "cell_type": "code",
   "execution_count": 10,
   "id": "3d145519",
   "metadata": {},
   "outputs": [
    {
     "name": "stdout",
     "output_type": "stream",
     "text": [
      "Nombre del cliente 12345678\n"
     ]
    },
    {
     "data": {
      "text/html": [
       "<div>\n",
       "<style scoped>\n",
       "    .dataframe tbody tr th:only-of-type {\n",
       "        vertical-align: middle;\n",
       "    }\n",
       "\n",
       "    .dataframe tbody tr th {\n",
       "        vertical-align: top;\n",
       "    }\n",
       "\n",
       "    .dataframe thead th {\n",
       "        text-align: right;\n",
       "    }\n",
       "</style>\n",
       "<table border=\"1\" class=\"dataframe\">\n",
       "  <thead>\n",
       "    <tr style=\"text-align: right;\">\n",
       "      <th></th>\n",
       "      <th>Tratamiento</th>\n",
       "      <th>Cantidad</th>\n",
       "      <th>Precio</th>\n",
       "      <th>Sub Total</th>\n",
       "    </tr>\n",
       "  </thead>\n",
       "  <tbody>\n",
       "    <tr>\n",
       "      <th>0</th>\n",
       "      <td>tratamiento 1</td>\n",
       "      <td>3</td>\n",
       "      <td>83</td>\n",
       "      <td>249</td>\n",
       "    </tr>\n",
       "    <tr>\n",
       "      <th>1</th>\n",
       "      <td>tratamiento 2</td>\n",
       "      <td>6</td>\n",
       "      <td>92</td>\n",
       "      <td>552</td>\n",
       "    </tr>\n",
       "  </tbody>\n",
       "</table>\n",
       "</div>"
      ],
      "text/plain": [
       "     Tratamiento  Cantidad  Precio  Sub Total\n",
       "0  tratamiento 1         3      83        249\n",
       "1  tratamiento 2         6      92        552"
      ]
     },
     "execution_count": 10,
     "metadata": {},
     "output_type": "execute_result"
    }
   ],
   "source": [
    "import random\n",
    "import pandas as pd\n",
    "\n",
    "nombre = \"Nombre del cliente\"\n",
    "cedula = \"12345678\"\n",
    "tratamientos = [f\"tratamiento {i}\" for i in range(1, 3)]\n",
    "cantidad = [random.randint(1, 10) for i in range(1, 3)]\n",
    "precios = [random.randint(1, 100) for i in range(1, 3)]\n",
    "sub_total = [cantidad[i] * precios[i] for i in range(len(tratamientos))]\n",
    "total = sum(sub_total)\n",
    "print(f\"{nombre} {cedula}\")\n",
    "df = pd.DataFrame({\n",
    "    \"Tratamiento\": tratamientos,\n",
    "    \"Cantidad\": cantidad,\n",
    "    \"Precio\": precios,\n",
    "    \"Sub Total\": sub_total\n",
    "})\n",
    "\n",
    "df.head()\n",
    "\n"
   ]
  },
  {
   "cell_type": "code",
   "execution_count": 2,
   "id": "94f8e0dd",
   "metadata": {},
   "outputs": [],
   "source": [
    "n_factura = 1000\n"
   ]
  },
  {
   "cell_type": "code",
   "execution_count": 11,
   "id": "64b565e0",
   "metadata": {},
   "outputs": [
    {
     "data": {
      "text/plain": [
       "''"
      ]
     },
     "execution_count": 11,
     "metadata": {},
     "output_type": "execute_result"
    }
   ],
   "source": [
    "from fpdf import FPDF\n",
    "import datetime\n",
    "\n",
    "pdf = FPDF()\n",
    "pdf.add_page()\n",
    "pdf.set_font(\"Arial\", size=12)\n",
    "pdf.image(\"pictures/1.png\", x=0, y=0, w=210, h=297)\n",
    "\n",
    "pdf.text(130, 22, nombre)\n",
    "pdf.text(130, 32, cedula)\n",
    "pdf.text(45, 50, \"Ejido\")\n",
    "pdf.text(45, 57, \"XXXX-XXXXXXXX\")\n",
    "pdf.text(170, 49, str(n_factura))\n",
    "n_factura += 1\n",
    "pdf.text(125, 56, str(datetime.date.today()))\n",
    "\n",
    "for i in range(len(tratamientos)):\n",
    "    pdf.text(15, 100 + (i * 10), f\"{i+1}. )    \" + tratamientos[i])\n",
    "    pdf.text(95, 100 + (i * 10), str(cantidad[i]))\n",
    "    pdf.text(130, 100 + (i * 10), str(precios[i]))\n",
    "    pdf.text(160, 100 + (i * 10), str(sub_total[i]) + \"$\")\n",
    "\n",
    "pdf.text(160, 261, f\"{total} $\")\n",
    "\n",
    "pdf.text(38, 254, \"Banco\")\n",
    "pdf.text(30, 261, \"XXXX-XXXXXXXX\")\n",
    "pdf.text(30, 268, \"12345678\")\n",
    "pdf.text(50, 275, \"Nombre\")\n",
    "pdf.text(25, 289, \"0108...3091\")\n",
    "\n",
    "\n",
    "pdf.output(\"prueba.pdf\")"
   ]
  }
 ],
 "metadata": {
  "kernelspec": {
   "display_name": "Python 3",
   "language": "python",
   "name": "python3"
  },
  "language_info": {
   "codemirror_mode": {
    "name": "ipython",
    "version": 3
   },
   "file_extension": ".py",
   "mimetype": "text/x-python",
   "name": "python",
   "nbconvert_exporter": "python",
   "pygments_lexer": "ipython3",
   "version": "3.12.10"
  }
 },
 "nbformat": 4,
 "nbformat_minor": 5
}
